{
 "cells": [
  {
   "cell_type": "code",
   "execution_count": 17,
   "metadata": {},
   "outputs": [],
   "source": [
    "#create the file \n",
    "filename = \"My info\""
   ]
  },
  {
   "cell_type": "code",
   "execution_count": 18,
   "metadata": {},
   "outputs": [],
   "source": [
    "#write data in the file\n",
    "with open(filename, 'w') as file:\n",
    "    file.write(\"My name is Harry\\nJesus loves me a lot\\n\\n\")\n"
   ]
  },
  {
   "cell_type": "code",
   "execution_count": 19,
   "metadata": {},
   "outputs": [
    {
     "name": "stdout",
     "output_type": "stream",
     "text": [
      "My name is Harry\n",
      "Jesus loves me a lot\n",
      "\n",
      "\n"
     ]
    }
   ],
   "source": [
    "#read the file \n",
    "with open(filename, 'r') as file:\n",
    "    content=file.read()\n",
    "    print(content)"
   ]
  },
  {
   "cell_type": "code",
   "execution_count": 20,
   "metadata": {},
   "outputs": [],
   "source": [
    "#write in more data in the document.\n",
    "with open (filename, 'a') as file:\n",
    "    file.write(\n",
    "        \"\\nMy Hobbies\\n   singing\\n   computing\")"
   ]
  },
  {
   "cell_type": "code",
   "execution_count": 21,
   "metadata": {},
   "outputs": [
    {
     "name": "stdout",
     "output_type": "stream",
     "text": [
      "My name is Harry\n",
      "Jesus loves me a lot\n",
      "\n",
      "\n",
      "My Hobbies\n",
      "   singing\n",
      "   computing\n"
     ]
    }
   ],
   "source": [
    "#read the file \n",
    "with open(filename, 'r') as file:\n",
    "    content=file.read()\n",
    "    print(content)"
   ]
  }
 ],
 "metadata": {
  "kernelspec": {
   "display_name": "Python 3",
   "language": "python",
   "name": "python3"
  },
  "language_info": {
   "codemirror_mode": {
    "name": "ipython",
    "version": 3
   },
   "file_extension": ".py",
   "mimetype": "text/x-python",
   "name": "python",
   "nbconvert_exporter": "python",
   "pygments_lexer": "ipython3",
   "version": "3.12.3"
  }
 },
 "nbformat": 4,
 "nbformat_minor": 2
}
